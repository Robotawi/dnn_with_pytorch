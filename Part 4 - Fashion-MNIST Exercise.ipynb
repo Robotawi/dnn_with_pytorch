{
 "cells": [
  {
   "cell_type": "markdown",
   "metadata": {},
   "source": [
    "# Classifying Fashion-MNIST\n",
    "\n",
    "Now it's your turn to build and train a neural network. You'll be using the [Fashion-MNIST dataset](https://github.com/zalandoresearch/fashion-mnist), a drop-in replacement for the MNIST dataset. MNIST is actually quite trivial with neural networks where you can easily achieve better than 97% accuracy. Fashion-MNIST is a set of 28x28 greyscale images of clothes. It's more complex than MNIST, so it's a better representation of the actual performance of your network, and a better representation of datasets you'll use in the real world.\n",
    "\n",
    "<img src='assets/fashion-mnist-sprite.png' width=500px>\n",
    "\n",
    "In this notebook, you'll build your own neural network. For the most part, you could just copy and paste the code from Part 3, but you wouldn't be learning. It's important for you to write the code yourself and get it to work. Feel free to consult the previous notebook though as you work through this.\n",
    "\n",
    "First off, let's load the dataset through torchvision."
   ]
  },
  {
   "cell_type": "code",
   "execution_count": 54,
   "metadata": {},
   "outputs": [],
   "source": [
    "import torch\n",
    "from torchvision import datasets, transforms\n",
    "import helper\n",
    "\n",
    "# Define a transform to normalize the data\n",
    "transform = transforms.Compose([transforms.ToTensor(),\n",
    "                                transforms.Normalize([0.5],[0.5])])\n",
    "# Download and load the training data\n",
    "trainset = datasets.FashionMNIST('F_MNIST_data/', download=True, train=True, transform=transform)\n",
    "trainloader = torch.utils.data.DataLoader(trainset, batch_size=64, shuffle=True)\n",
    "\n",
    "# Download and load the test data\n",
    "testset = datasets.FashionMNIST('F_MNIST_data/', download=True, train=False, transform=transform)\n",
    "testloader = torch.utils.data.DataLoader(testset, batch_size=64, shuffle=True)"
   ]
  },
  {
   "cell_type": "markdown",
   "metadata": {},
   "source": [
    "Here we can see one of the images."
   ]
  },
  {
   "cell_type": "code",
   "execution_count": 55,
   "metadata": {},
   "outputs": [
    {
     "data": {
      "text/plain": [
       "<matplotlib.axes._subplots.AxesSubplot at 0x7fc42754bc88>"
      ]
     },
     "execution_count": 55,
     "metadata": {},
     "output_type": "execute_result"
    },
    {
     "data": {
      "image/png": "[encoded data removed]",
      "text/plain": [
       "<matplotlib.figure.Figure at 0x7fc427221358>"
      ]
     },
     "metadata": {
      "image/png": {
       "height": 233,
       "width": 233
      },
      "needs_background": "light"
     },
     "output_type": "display_data"
    }
   ],
   "source": [
    "image, label = next(iter(trainloader))\n",
    "helper.imshow(image[0,:])"
   ]
  },
  {
   "cell_type": "markdown",
   "metadata": {},
   "source": [
    "With the data loaded, it's time to import the necessary packages."
   ]
  },
  {
   "cell_type": "code",
   "execution_count": 56,
   "metadata": {},
   "outputs": [],
   "source": [
    "%matplotlib inline\n",
    "%config InlineBackend.figure_format = 'retina'\n",
    "\n",
    "import matplotlib.pyplot as plt\n",
    "import numpy as np\n",
    "import time\n",
    "\n",
    "import torch\n",
    "from torch import nn\n",
    "from torch import optim\n",
    "import torch.nn.functional as F\n",
    "from torchvision import datasets, transforms\n",
    "\n",
    "import helper"
   ]
  },
  {
   "cell_type": "markdown",
   "metadata": {},
   "source": [
    "## Building the network\n",
    "\n",
    "Here you should define your network. As with MNIST, each image is 28x28 which is a total of 784 pixels, and there are 10 classes. You should include at least one hidden layer. We suggest you use ReLU activations for the layers and to return the logits from the forward pass. It's up to you how many layers you add and the size of those layers."
   ]
  },
  {
   "cell_type": "code",
   "execution_count": 66,
   "metadata": {},
   "outputs": [
    {
     "name": "stdout",
     "output_type": "stream",
     "text": [
      "Sequential(\n",
      "  (fc1): Linear(in_features=784, out_features=128, bias=True)\n",
      "  (relu1): ReLU()\n",
      "  (fc2): Linear(in_features=128, out_features=64, bias=True)\n",
      "  (relu2): ReLU()\n",
      "  (dropout): Dropout(p=0.4, inplace=False)\n",
      "  (fc3): Linear(in_features=64, out_features=10, bias=True)\n",
      ")\n"
     ]
    }
   ],
   "source": [
    "from collections import OrderedDict\n",
    "\n",
    "input_size = 28*28 \n",
    "hidden_sizes = [128,64]\n",
    "output_size = 10\n",
    "\n",
    "# DeepNN = nn.Sequential(nn.Linear(input_size, hidden_sizes[0]),\n",
    "#                        nn.ReLU(),\n",
    "#                        nn.Linear(hidden_sizes[0],hidden_sizes[1]),\n",
    "#                        nn.ReLU(),\n",
    "#                        nn.Linear(hidden_sizes[1], hidden_sizes[2]),\n",
    "#                        nn.ReLU(),\n",
    "#                        nn.Linear(hidden_sizes[2],output_size))\n",
    "\n",
    "\n",
    "DeepNN = nn.Sequential(OrderedDict([('fc1',nn.Linear(input_size, hidden_sizes[0])),\n",
    "                       ('relu1', nn.ReLU()),\n",
    "                       ('fc2', nn.Linear(hidden_sizes[0],hidden_sizes[1])),\n",
    "                       ('relu2',nn.ReLU()),\n",
    "                       ('dropout', nn.Dropout(0.4)),\n",
    "                       ('fc3',nn.Linear(hidden_sizes[1],output_size))]))\n",
    "\n",
    "print(DeepNN)"
   ]
  },
  {
   "cell_type": "markdown",
   "metadata": {},
   "source": [
    "# Train the network\n",
    "\n",
    "Now you should create your network and train it. First you'll want to define [the criterion](http://pytorch.org/docs/master/nn.html#loss-functions) ( something like `nn.CrossEntropyLoss`) and [the optimizer](http://pytorch.org/docs/master/optim.html) (typically `optim.SGD` or `optim.Adam`).\n",
    "\n",
    "Then write the training code. Remember the training pass is a fairly straightforward process:\n",
    "\n",
    "* Make a forward pass through the network to get the logits \n",
    "* Use the logits to calculate the loss\n",
    "* Perform a backward pass through the network with `loss.backward()` to calculate the gradients\n",
    "* Take a step with the optimizer to update the weights\n",
    "\n",
    "By adjusting the hyperparameters (hidden units, learning rate, etc), you should be able to get the training loss below 0.4."
   ]
  },
  {
   "cell_type": "code",
   "execution_count": 67,
   "metadata": {},
   "outputs": [],
   "source": [
    "# TODO: Create the network, define the criterion and optimizer\n",
    "criterion = nn.CrossEntropyLoss()\n",
    "optimizer = optim.SGD(DeepNN.parameters(), lr=0.001)"
   ]
  },
  {
   "cell_type": "code",
   "execution_count": 69,
   "metadata": {},
   "outputs": [
    {
     "name": "stdout",
     "output_type": "stream",
     "text": [
      "Initial weights are:  Parameter containing:\n",
      "tensor([[0.1714, 0.1701, 0.1919,  ..., 0.1912, 0.1818, 0.1855],\n",
      "        [0.3063, 0.3319, 0.3376,  ..., 0.2195, 0.2962, 0.3322],\n",
      "        [0.8170, 0.8490, 0.8232,  ..., 0.8460, 0.7686, 0.8102],\n",
      "        ...,\n",
      "        [0.0517, 0.0809, 0.1072,  ..., 0.0529, 0.0986, 0.0823],\n",
      "        [0.4699, 0.4506, 0.4777,  ..., 0.4470, 0.4834, 0.5098],\n",
      "        [0.2357, 0.2577, 0.2064,  ..., 0.1881, 0.2710, 0.1947]],\n",
      "       requires_grad=True)\n",
      "Epoch: 1/3...  Loss: 2.3218\n",
      "Epoch: 1/3...  Loss: 2.2635\n",
      "Epoch: 1/3...  Loss: 2.2328\n",
      "Epoch: 1/3...  Loss: 3.2975\n",
      "Epoch: 1/3...  Loss: 2.3213\n",
      "Epoch: 1/3...  Loss: 2.4078\n",
      "Epoch: 1/3...  Loss: 2.4394\n",
      "Epoch: 1/3...  Loss: 2.4744\n",
      "Epoch: 1/3...  Loss: 2.4524\n",
      "Epoch: 1/3...  Loss: 2.4286\n",
      "Epoch: 1/3...  Loss: 2.4361\n",
      "Epoch: 1/3...  Loss: 2.4102\n",
      "Epoch: 1/3...  Loss: 2.3897\n",
      "Epoch: 1/3...  Loss: 2.3595\n",
      "Epoch: 1/3...  Loss: 2.3709\n",
      "Epoch: 1/3...  Loss: 2.3859\n",
      "Epoch: 1/3...  Loss: 2.4371\n",
      "Epoch: 1/3...  Loss: 2.4347\n",
      "Epoch: 1/3...  Loss: 2.4027\n",
      "Epoch: 1/3...  Loss: 2.3931\n",
      "Epoch: 1/3...  Loss: 2.3705\n",
      "Epoch: 1/3...  Loss: 2.3757\n",
      "Epoch: 1/3...  Loss: 2.4071\n",
      "Epoch: 2/3...  Loss: 1.3346\n",
      "Epoch: 2/3...  Loss: 2.4562\n",
      "Epoch: 2/3...  Loss: 2.4551\n",
      "Epoch: 2/3...  Loss: 2.5009\n",
      "Epoch: 2/3...  Loss: 2.4872\n",
      "Epoch: 2/3...  Loss: 2.4305\n",
      "Epoch: 2/3...  Loss: 2.3967\n",
      "Epoch: 2/3...  Loss: 2.3564\n",
      "Epoch: 2/3...  Loss: 2.3340\n",
      "Epoch: 2/3...  Loss: 2.3584\n",
      "Epoch: 2/3...  Loss: 2.4443\n",
      "Epoch: 2/3...  Loss: 2.4578\n",
      "Epoch: 2/3...  Loss: 2.4635\n",
      "Epoch: 2/3...  Loss: 2.3986\n",
      "Epoch: 2/3...  Loss: 2.3721\n",
      "Epoch: 2/3...  Loss: 2.3580\n",
      "Epoch: 2/3...  Loss: 2.3841\n",
      "Epoch: 2/3...  Loss: 2.4166\n",
      "Epoch: 2/3...  Loss: 2.4418\n",
      "Epoch: 2/3...  Loss: 2.4610\n",
      "Epoch: 2/3...  Loss: 2.4598\n",
      "Epoch: 2/3...  Loss: 2.4419\n",
      "Epoch: 2/3...  Loss: 2.4348\n",
      "Epoch: 3/3...  Loss: 0.2363\n",
      "Epoch: 3/3...  Loss: 2.3394\n",
      "Epoch: 3/3...  Loss: 2.3236\n",
      "Epoch: 3/3...  Loss: 2.3662\n",
      "Epoch: 3/3...  Loss: 2.4310\n",
      "Epoch: 3/3...  Loss: 2.4684\n",
      "Epoch: 3/3...  Loss: 2.4749\n",
      "Epoch: 3/3...  Loss: 2.4191\n",
      "Epoch: 3/3...  Loss: 2.3762\n",
      "Epoch: 3/3...  Loss: 2.3661\n",
      "Epoch: 3/3...  Loss: 2.3743\n",
      "Epoch: 3/3...  Loss: 2.3984\n",
      "Epoch: 3/3...  Loss: 2.4416\n",
      "Epoch: 3/3...  Loss: 2.4461\n",
      "Epoch: 3/3...  Loss: 2.4604\n",
      "Epoch: 3/3...  Loss: 2.4910\n",
      "Epoch: 3/3...  Loss: 2.4772\n",
      "Epoch: 3/3...  Loss: 2.3928\n",
      "Epoch: 3/3...  Loss: 2.3473\n",
      "Epoch: 3/3...  Loss: 2.3372\n",
      "Epoch: 3/3...  Loss: 2.3816\n",
      "Epoch: 3/3...  Loss: 2.4666\n",
      "Epoch: 3/3...  Loss: 2.5079\n",
      "Epoch: 3/3...  Loss: 2.4756\n"
     ]
    }
   ],
   "source": [
    "# TODO: Train the network here\n",
    "\n",
    "# Initial weights \n",
    "print(\"Initial weights are: \", DeepNN.fc1.weight)\n",
    "\n",
    "epochs = 3\n",
    "print_every = 40 \n",
    "steps = 0\n",
    "\n",
    "for e in range(epochs):\n",
    "    running_loss = 0 \n",
    "    DeepNN.train()\n",
    "\n",
    "    for images,labels in iter(trainloader):\n",
    "        steps += 1\n",
    "\n",
    "        #flatten the input\n",
    "        images.resize_(images.size()[0], 28*28)\n",
    "\n",
    "        #forward and back passes \n",
    "        output = DeepNN.forward(images)\n",
    "        loss = criterion(output, labels)\n",
    "        loss.backward() \n",
    "        optimizer.step() \n",
    "\n",
    "        running_loss += loss.item() \n",
    "        # print(\"Loss = \", loss)\n",
    "\n",
    "        if steps % print_every == 0:\n",
    "            DeepNN.eval()\n",
    "            print(\"Epoch: {}/{}... \".format(e+1, epochs),\n",
    "                  \"Loss: {:.4f}\".format(running_loss/print_every))\n",
    "            \n",
    "            running_loss = 0\n",
    "            DeepNN.train()"
   ]
  },
  {
   "cell_type": "code",
   "execution_count": 76,
   "metadata": {},
   "outputs": [
    {
     "data": {
      "image/png": "[encoded data removed]",
      "text/plain": [
       "<matplotlib.figure.Figure at 0x7fc42af60208>"
      ]
     },
     "metadata": {
      "image/png": {
       "height": 204,
       "width": 423
      },
      "needs_background": "light"
     },
     "output_type": "display_data"
    }
   ],
   "source": [
    "# Test out your network!\n",
    "\n",
    "dataiter = iter(testloader)\n",
    "images, labels = dataiter.next()\n",
    "img = images[0]\n",
    "# Convert 2D image to 1D vector\n",
    "img = img.resize_(1, 784)\n",
    "\n",
    "# TODO: Calculate the class probabilities (softmax) for img\n",
    "with torch.no_grad():\n",
    "    logits = DeepNN.forward(img)\n",
    "\n",
    "\n",
    "ps = F.softmax(logits, dim=1)\n",
    "\n",
    "# Plot the image and probabilities\n",
    "helper.view_classify(img.resize_(1, 28, 28), ps, version='Fashion')"
   ]
  },
  {
   "cell_type": "markdown",
   "metadata": {},
   "source": [
    "Now that your network is trained, you'll want to save it to disk so you can load it later instead of training it again. Obviously, it's impractical to train a network every time you need one. In practice, you'll train it once, save the model, then reload it for further training or making predictions. In the next part, I'll show you how to save and load trained models."
   ]
  }
 ],
 "metadata": {
  "kernelspec": {
   "display_name": "Python 3.6.9 64-bit",
   "language": "python",
   "name": "python3"
  },
  "language_info": {
   "codemirror_mode": {
    "name": "ipython",
    "version": 3
   },
   "file_extension": ".py",
   "mimetype": "text/x-python",
   "name": "python",
   "nbconvert_exporter": "python",
   "pygments_lexer": "ipython3",
   "version": "3.6.9"
  },
  "vscode": {
   "interpreter": {
    "hash": "31f2aee4e71d21fbe5cf8b01ff0e069b9275f58929596ceb00d14d90e3e16cd6"
   }
  }
 },
 "nbformat": 4,
 "nbformat_minor": 2
}
