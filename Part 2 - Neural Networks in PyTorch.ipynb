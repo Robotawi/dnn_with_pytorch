{
 "cells": [
  {
   "cell_type": "markdown",
   "metadata": {},
   "source": [
    "# Neural networks with PyTorch\n",
    "\n",
    "Next I'll show you how to build a neural network with PyTorch."
   ]
  },
  {
   "cell_type": "code",
   "execution_count": 11,
   "metadata": {},
   "outputs": [],
   "source": [
    "# Import things like usual\n",
    "\n",
    "%matplotlib inline\n",
    "%config InlineBackend.figure_format = 'retina'\n",
    "\n",
    "import numpy as np\n",
    "import torch\n",
    "\n",
    "import helper\n",
    "\n",
    "import matplotlib.pyplot as plt\n",
    "from torchvision import datasets, transforms #helps us download and use existing datasets "
   ]
  },
  {
   "cell_type": "markdown",
   "metadata": {},
   "source": [
    "First up, we need to get our dataset. This is provided through the `torchvision` package. The code below will download the MNIST dataset, then create training and test datasets for us. Don't worry too much about the details here, you'll learn more about this later."
   ]
  },
  {
   "cell_type": "code",
   "execution_count": 21,
   "metadata": {},
   "outputs": [],
   "source": [
    "# Define a transform that describes how to deal with the data. Here, it convert to tensors, then normalize.\n",
    "# To normalize is to make the pixel values from -1 to 1 instead of 0 to 1. It moves the 0 to 1 range to -0.5 to 0.5 \n",
    "# then, divides by 0.5 (like multiplying by 2) to have the range from -1 to 1 \n",
    "# This makes it easy for networks to learn. Always, you want to normalize data going to your NN. \n",
    "\n",
    "# transform = transforms.Compose([transforms.ToTensor(),\n",
    "#                               transforms.Normalize((0.5, 0.5, 0.5), (0.5, 0.5, 0.5)),\n",
    "#                              ])\n",
    "\n",
    "# for grey images \n",
    "transform = transforms.Compose([transforms.ToTensor(),\n",
    "                              transforms.Normalize([0.5], [0.5])])\n",
    "\n",
    "# Download and load the training data\n",
    "# The batch_size=64 means when get data, get 64 images at a time \n",
    "trainset = datasets.MNIST('MNIST_data/', download=True, train=True, transform=transform)\n",
    "trainloader = torch.utils.data.DataLoader(trainset, batch_size=64, shuffle=True)\n",
    "\n",
    "# Download and load the test data\n",
    "testset = datasets.MNIST('MNIST_data/', download=True, train=False, transform=transform)\n",
    "testloader = torch.utils.data.DataLoader(testset, batch_size=64, shuffle=True)"
   ]
  },
  {
   "cell_type": "code",
   "execution_count": 22,
   "metadata": {},
   "outputs": [],
   "source": [
    "# testloader.type()\n",
    "# To be able to interate on data\n",
    "dataiter = iter(trainloader)\n",
    "images, labels = dataiter.next()"
   ]
  },
  {
   "cell_type": "markdown",
   "metadata": {},
   "source": [
    "We have the training data loaded into `trainloader` and we make that an iterator with `iter(trainloader)`. We'd use this to loop through the dataset for training, but here I'm just grabbing the first batch so we can check out the data. We can see below that `images` is just a tensor with size (64, 1, 28, 28). So, 64 images per batch, 1 color channel, and 28x28 images."
   ]
  },
  {
   "cell_type": "code",
   "execution_count": 23,
   "metadata": {},
   "outputs": [
    {
     "data": {
      "image/png": "[encoded data removed]",
      "text/plain": [
       "<matplotlib.figure.Figure at 0x7f0bf53ca7f0>"
      ]
     },
     "metadata": {
      "image/png": {
       "height": 250,
       "width": 253
      },
      "needs_background": "light"
     },
     "output_type": "display_data"
    }
   ],
   "source": [
    "plt.imshow(images[1].numpy().squeeze(), cmap='Greys_r'); #squeeze removes axes with value one"
   ]
  },
  {
   "cell_type": "markdown",
   "metadata": {},
   "source": [
    "## Building networks with PyTorch\n",
    "\n",
    "Here I'll use PyTorch to build a simple feedfoward network to classify the MNIST images. That is, the network will receive a digit image as input and predict the digit in the image.\n",
    "\n",
    "<img src=\"assets/mlp_mnist.png\" width=600px>\n",
    "\n",
    "To build a neural network with PyTorch, you use the `torch.nn` module. The network itself is a class inheriting from `torch.nn.Module`. You define each of the operations separately, like `nn.Linear(784, 128)` for a fully connected linear layer with 784 inputs and 128 units. The number of units/neurons per layer and the number of layers is arbitrary. **The more layers and units, the more the NN is able to fit the data. However, the large part of training NN is to find the best number of layers and units to use in our NN.** \n",
    "\n",
    "The class needs to include a `forward` method that implements the forward pass through the network. In this method, you pass some input tensor `x` through each of the operations you defined earlier. The `torch.nn` module also has functional equivalents for things like ReLUs in `torch.nn.functional`. This module is usually imported as `F`. Then to use a ReLU activation on some layer (which is just a tensor), you'd do `F.relu(x)`. Below are a few different commonly used activation functions.\n",
    "\n",
    "<img src=\"assets/activation.png\" width=700px>\n",
    "\n",
    "So, for this network, I'll build it with three fully connected layers, then a softmax output for predicting classes. The softmax function is similar to the sigmoid in that it squashes inputs between 0 and 1, but it's also normalized so that all the values sum to one like a proper probability distribution.\n",
    "\n",
    "**To train the network, we need a loss function. The loss function is cross-entropy. It compares the output from softmax with the right category and is used to update the weights in the neural network.**"
   ]
  },
  {
   "cell_type": "code",
   "execution_count": 26,
   "metadata": {},
   "outputs": [],
   "source": [
    "from torch import nn #neural network functions\n",
    "from torch import optim\n",
    "import torch.nn.functional as F"
   ]
  },
  {
   "cell_type": "code",
   "execution_count": 27,
   "metadata": {
    "scrolled": true
   },
   "outputs": [
    {
     "data": {
      "text/plain": [
       "Network(\n",
       "  (fc1): Linear(in_features=784, out_features=128, bias=True)\n",
       "  (fc2): Linear(in_features=128, out_features=64, bias=True)\n",
       "  (fc3): Linear(in_features=64, out_features=10, bias=True)\n",
       ")"
      ]
     },
     "execution_count": 27,
     "metadata": {},
     "output_type": "execute_result"
    }
   ],
   "source": [
    "# Notice that for our NN, MNIST has 28x28 size. We need to convert to a single vector (verly long 28x28 = 784)\n",
    "# The number of units/neurons in hidden layers and the number of layers are arbitrary. \n",
    "# The large part of training NN is to find the right number of layers and neurons. \n",
    "\n",
    "# Creating the NN is by making a class that is a sub-class of the nn.Module class. \n",
    "\n",
    "class Network(nn.Module):\n",
    "    def __init__(self):\n",
    "        super().__init__() #call the nn.Module's __init__()\n",
    "        \n",
    "        # All layers are fully connected layers, no conv here. \n",
    "        # Defining the layers, 128, 64, 10 units each\n",
    "        self.fc1 = nn.Linear(784, 128) #just put 128 \n",
    "        self.fc2 = nn.Linear(128, 64) #just put 64 \n",
    "        # Output layer, 10 units - one for each digit\n",
    "        self.fc3 = nn.Linear(64, 10) #put 10 because we have 10 classes \n",
    "        \n",
    "    def forward(self, x):\n",
    "        ''' Forward pass through the network, returns the output logits '''\n",
    "        \n",
    "        x = self.fc1(x) #pass x through the different operations \n",
    "        x = F.relu(x)\n",
    "        x = self.fc2(x)\n",
    "        x = F.relu(x)\n",
    "        x = self.fc3(x)\n",
    "        \n",
    "        # The softmax function has an input of size (64x10). \n",
    "        # We want it to work on the second dimension to give use the propability of the 10 classes classification\n",
    "        # This is why dim =1, not 0 because the 0 is the 64 units/neurons\n",
    "        \n",
    "        x = F.softmax(x, dim=1) \n",
    "        return x\n",
    "\n",
    "model = Network()\n",
    "model"
   ]
  },
  {
   "cell_type": "markdown",
   "metadata": {},
   "source": [
    "### Initializing weights and biases\n",
    "\n",
    "The weights and such are automatically initialized for you, but it's possible to customize how they are initialized. The weights and biases are tensors attached to the layer you defined, you can get them with `model.fc1.weight` for instance."
   ]
  },
  {
   "cell_type": "code",
   "execution_count": 32,
   "metadata": {},
   "outputs": [
    {
     "name": "stdout",
     "output_type": "stream",
     "text": [
      "Parameter containing:\n",
      "tensor([[ 1.6882e-02,  3.0516e-02,  3.1423e-02,  ..., -1.2458e-02,\n",
      "         -2.4100e-02, -8.1475e-03],\n",
      "        [ 1.9203e-02,  3.3456e-02,  3.5277e-02,  ..., -6.3089e-03,\n",
      "          3.5828e-03,  1.4425e-03],\n",
      "        [ 7.2534e-03, -1.7888e-02,  2.2542e-02,  ...,  3.2795e-02,\n",
      "         -5.9239e-03,  2.3907e-02],\n",
      "        ...,\n",
      "        [-1.8409e-02,  2.5345e-05,  1.4549e-02,  ...,  1.6792e-02,\n",
      "          1.0364e-02,  2.0237e-02],\n",
      "        [ 2.3719e-02, -1.5997e-02, -1.0775e-02,  ...,  1.4181e-03,\n",
      "          3.4285e-02, -1.3354e-02],\n",
      "        [-2.2599e-02, -1.8403e-02,  1.9015e-02,  ...,  2.6313e-02,\n",
      "         -6.9190e-03, -1.3969e-02]], requires_grad=True)\n",
      "Parameter containing:\n",
      "tensor([-0.0017,  0.0031,  0.0103,  0.0087,  0.0021, -0.0343,  0.0158,  0.0277,\n",
      "        -0.0197,  0.0016, -0.0245,  0.0196,  0.0287,  0.0002,  0.0293,  0.0162,\n",
      "         0.0308,  0.0238, -0.0176,  0.0111, -0.0253,  0.0048, -0.0272, -0.0035,\n",
      "         0.0165, -0.0243,  0.0221, -0.0055, -0.0187, -0.0212, -0.0330,  0.0288,\n",
      "         0.0287, -0.0337,  0.0089, -0.0029, -0.0034, -0.0107, -0.0228, -0.0232,\n",
      "         0.0304, -0.0327, -0.0117,  0.0107, -0.0002,  0.0130,  0.0237,  0.0184,\n",
      "        -0.0062,  0.0165, -0.0266, -0.0301,  0.0165, -0.0299,  0.0177,  0.0131,\n",
      "         0.0171, -0.0252,  0.0033, -0.0217,  0.0033, -0.0355, -0.0062,  0.0220,\n",
      "        -0.0243,  0.0322, -0.0086,  0.0160,  0.0147, -0.0331, -0.0123,  0.0074,\n",
      "         0.0038, -0.0058,  0.0262,  0.0273,  0.0253, -0.0288,  0.0091,  0.0017,\n",
      "        -0.0064,  0.0197,  0.0202,  0.0100, -0.0260,  0.0064,  0.0323,  0.0047,\n",
      "        -0.0280, -0.0265,  0.0209, -0.0344, -0.0264, -0.0321, -0.0103, -0.0069,\n",
      "        -0.0175, -0.0077, -0.0343,  0.0212,  0.0071,  0.0112, -0.0253, -0.0141,\n",
      "         0.0105,  0.0327, -0.0118,  0.0337,  0.0187, -0.0255, -0.0283,  0.0329,\n",
      "         0.0222, -0.0173,  0.0278,  0.0056, -0.0351,  0.0174, -0.0325, -0.0054,\n",
      "         0.0144, -0.0171,  0.0322, -0.0352, -0.0156,  0.0229, -0.0121,  0.0337],\n",
      "       requires_grad=True)\n"
     ]
    }
   ],
   "source": [
    "# The weights and such are automatically initialized for you,\n",
    "# but it's possible to customize how they are initialized.\n",
    "print(model.fc1.weight)\n",
    "print(model.fc1.bias)"
   ]
  },
  {
   "cell_type": "markdown",
   "metadata": {},
   "source": [
    "For custom initialization, we want to modify these tensors in place. These are actually autograd *Variables*, so we need to get back the actual tensors with `model.fc1.weight.data`. Once we have the tensors, we can fill them with zeros (for biases) or random normal values."
   ]
  },
  {
   "cell_type": "code",
   "execution_count": 33,
   "metadata": {},
   "outputs": [
    {
     "data": {
      "text/plain": [
       "tensor([0., 0., 0., 0., 0., 0., 0., 0., 0., 0., 0., 0., 0., 0., 0., 0., 0., 0., 0., 0., 0., 0., 0., 0.,\n",
       "        0., 0., 0., 0., 0., 0., 0., 0., 0., 0., 0., 0., 0., 0., 0., 0., 0., 0., 0., 0., 0., 0., 0., 0.,\n",
       "        0., 0., 0., 0., 0., 0., 0., 0., 0., 0., 0., 0., 0., 0., 0., 0., 0., 0., 0., 0., 0., 0., 0., 0.,\n",
       "        0., 0., 0., 0., 0., 0., 0., 0., 0., 0., 0., 0., 0., 0., 0., 0., 0., 0., 0., 0., 0., 0., 0., 0.,\n",
       "        0., 0., 0., 0., 0., 0., 0., 0., 0., 0., 0., 0., 0., 0., 0., 0., 0., 0., 0., 0., 0., 0., 0., 0.,\n",
       "        0., 0., 0., 0., 0., 0., 0., 0.])"
      ]
     },
     "execution_count": 33,
     "metadata": {},
     "output_type": "execute_result"
    }
   ],
   "source": [
    "# Set biases to all zeros\n",
    "model.fc1.bias.data.fill_(0)"
   ]
  },
  {
   "cell_type": "code",
   "execution_count": 34,
   "metadata": {},
   "outputs": [
    {
     "data": {
      "text/plain": [
       "tensor([[ 0.0038, -0.0070, -0.0134,  ...,  0.0106,  0.0170,  0.0126],\n",
       "        [ 0.0062,  0.0159,  0.0002,  ..., -0.0072, -0.0089, -0.0078],\n",
       "        [ 0.0256, -0.0108, -0.0087,  ...,  0.0089, -0.0092,  0.0149],\n",
       "        ...,\n",
       "        [ 0.0204,  0.0074, -0.0126,  ...,  0.0173,  0.0076,  0.0059],\n",
       "        [-0.0060,  0.0094, -0.0072,  ...,  0.0095, -0.0217, -0.0041],\n",
       "        [-0.0010, -0.0100,  0.0022,  ...,  0.0067,  0.0118, -0.0092]])"
      ]
     },
     "execution_count": 34,
     "metadata": {},
     "output_type": "execute_result"
    }
   ],
   "source": [
    "# sample from random/uniform normal with standard dev = 0.01\n",
    "model.fc1.weight.data.normal_(std=0.01)"
   ]
  },
  {
   "cell_type": "markdown",
   "metadata": {},
   "source": [
    "### Forward pass\n",
    "\n",
    "Now that we have a network, let's see what happens when we pass in an image. This is called the forward pass. We're going to convert the image data into a tensor, then pass it through the operations defined by the network architecture."
   ]
  },
  {
   "cell_type": "code",
   "execution_count": 37,
   "metadata": {},
   "outputs": [
    {
     "data": {
      "image/png": "[encoded data removed]",
      "text/plain": [
       "<matplotlib.figure.Figure at 0x7f0bf5227da0>"
      ]
     },
     "metadata": {
      "image/png": {
       "height": 224,
       "width": 423
      },
      "needs_background": "light"
     },
     "output_type": "display_data"
    }
   ],
   "source": [
    "# Grab some data \n",
    "dataiter = iter(trainloader)\n",
    "images, labels = dataiter.next() #gives next patch when we iterate on it\n",
    "\n",
    "# Resize images into a 1D vector, new shape is (batch size, color channels, image pixels) \n",
    "images.resize_(64, 1, 784)\n",
    "# or images.resize_(images.shape[0], 1, 784) to not automatically get batch size\n",
    "\n",
    "# Forward pass through the network\n",
    "img_idx = 3\n",
    "ps = model.forward(images[img_idx,:])\n",
    "\n",
    "img = images[img_idx]\n",
    "helper.view_classify(img.view(1, 28, 28), ps) #convert back to 28x28 image"
   ]
  },
  {
   "cell_type": "markdown",
   "metadata": {},
   "source": [
    "As you can see above, our network has basically no idea what this digit is. It's because we haven't trained it yet, all the weights are random!\n",
    "\n",
    "PyTorch provides a convenient way to build networks like this where a tensor is passed sequentially through operations, `nn.Sequential` ([documentation](https://pytorch.org/docs/master/nn.html#torch.nn.Sequential)). Using this to build the equivalent network:"
   ]
  },
  {
   "cell_type": "code",
   "execution_count": 38,
   "metadata": {},
   "outputs": [
    {
     "name": "stdout",
     "output_type": "stream",
     "text": [
      "Sequential(\n",
      "  (0): Linear(in_features=784, out_features=128, bias=True)\n",
      "  (1): ReLU()\n",
      "  (2): Linear(in_features=128, out_features=64, bias=True)\n",
      "  (3): ReLU()\n",
      "  (4): Linear(in_features=64, out_features=10, bias=True)\n",
      "  (5): Softmax(dim=1)\n",
      ")\n"
     ]
    },
    {
     "data": {
      "image/png": "[encoded data removed]",
      "text/plain": [
       "<matplotlib.figure.Figure at 0x7f0bf519d320>"
      ]
     },
     "metadata": {
      "image/png": {
       "height": 224,
       "width": 423
      },
      "needs_background": "light"
     },
     "output_type": "display_data"
    }
   ],
   "source": [
    "# Another way to create a deep NN (using nn.Sequential, not explicitly nn.Module as a base class)\n",
    "\n",
    "# Hyperparameters for our network\n",
    "input_size = 784\n",
    "hidden_sizes = [128, 64]\n",
    "output_size = 10\n",
    "\n",
    "# Build a feed-forward network\n",
    "model = nn.Sequential(nn.Linear(input_size, hidden_sizes[0]),\n",
    "                      nn.ReLU(),\n",
    "                      nn.Linear(hidden_sizes[0], hidden_sizes[1]),\n",
    "                      nn.ReLU(),\n",
    "                      nn.Linear(hidden_sizes[1], output_size),\n",
    "                      nn.Softmax(dim=1))\n",
    "print(model)\n",
    "\n",
    "# Forward pass through the network and display output\n",
    "images, labels = next(iter(trainloader))\n",
    "images.resize_(images.shape[0], 1, 784)\n",
    "ps = model.forward(images[0,:])\n",
    "helper.view_classify(images[0].view(1, 28, 28), ps)"
   ]
  },
  {
   "cell_type": "markdown",
   "metadata": {},
   "source": [
    "You can also pass in an `OrderedDict` to name the individual layers and operations. Note that a dictionary keys must be unique, so _each operation must have a different name_."
   ]
  },
  {
   "cell_type": "code",
   "execution_count": 45,
   "metadata": {},
   "outputs": [
    {
     "data": {
      "text/plain": [
       "Sequential(\n",
       "  (fc1): Linear(in_features=784, out_features=128, bias=True)\n",
       "  (relu1): ReLU()\n",
       "  (fc2): Linear(in_features=128, out_features=64, bias=True)\n",
       "  (relu2): ReLU()\n",
       "  (output): Linear(in_features=64, out_features=10, bias=True)\n",
       "  (softmax): Softmax()\n",
       ")"
      ]
     },
     "execution_count": 45,
     "metadata": {},
     "output_type": "execute_result"
    }
   ],
   "source": [
    "from collections import OrderedDict\n",
    "model = nn.Sequential(OrderedDict([\n",
    "                      ('fc1', nn.Linear(input_size, hidden_sizes[0])),\n",
    "                      ('relu1', nn.ReLU()),\n",
    "                      ('fc2', nn.Linear(hidden_sizes[0], hidden_sizes[1])),\n",
    "                      ('relu2', nn.ReLU()),\n",
    "                      ('output', nn.Linear(hidden_sizes[1], output_size)),\n",
    "                      ('softmax', nn.Softmax(dim=1))]))\n",
    "model"
   ]
  },
  {
   "cell_type": "markdown",
   "metadata": {},
   "source": [
    "Now it's your turn to build a simple network, use any method I've covered so far. In the next notebook, you'll learn how to train a network so it can make good predictions.\n",
    "\n",
    ">**Exercise:** Build a network to classify the MNIST images with _three_ hidden layers. Use 400 units in the first hidden layer, 200 units in the second layer, and 100 units in the third layer. Each hidden layer should have a ReLU activation function, and use softmax on the output layer. "
   ]
  },
  {
   "cell_type": "code",
   "execution_count": 41,
   "metadata": {},
   "outputs": [
    {
     "data": {
      "text/plain": [
       "MyDeepNN(\n",
       "  (fc1): Linear(in_features=784, out_features=120, bias=True)\n",
       "  (fc2): Linear(in_features=120, out_features=60, bias=True)\n",
       "  (fc3): Linear(in_features=60, out_features=10, bias=True)\n",
       ")"
      ]
     },
     "execution_count": 41,
     "metadata": {},
     "output_type": "execute_result"
    }
   ],
   "source": [
    "## Exercise: Your network here\n",
    "from torch import nn\n",
    "import torch.nn.functional as F \n",
    "class MyDeepNN(nn.Module):\n",
    "    def __init__(self):\n",
    "        # Call base class constructor\n",
    "        super().__init__()\n",
    "        \n",
    "        # Define layers \n",
    "        self.fc1 = nn.Linear(28*28, 120)\n",
    "        self.fc2 = nn.Linear(120, 60)\n",
    "        self.fc3 = nn.Linear(60, 10)\n",
    "    \n",
    "    # Define forward behavior \n",
    "    def forward(self, x):\n",
    "        x = self.fc1(x)\n",
    "        x = F.relu(x)\n",
    "        x = self.fc2(x)\n",
    "        x = F.relu(x)\n",
    "        x = self.fc3(x)\n",
    "        x = F.softmax(x, dim=1)\n",
    "        return x \n",
    "        \n",
    "my_model = MyDeepNN()\n",
    "my_model"
   ]
  },
  {
   "cell_type": "code",
   "execution_count": 42,
   "metadata": {},
   "outputs": [
    {
     "name": "stdout",
     "output_type": "stream",
     "text": [
      "Parameter containing:\n",
      "tensor([[-0.0132, -0.0009, -0.0087,  ...,  0.0089,  0.0274,  0.0093],\n",
      "        [-0.0261,  0.0095,  0.0104,  ...,  0.0037, -0.0103, -0.0032],\n",
      "        [-0.0281,  0.0184, -0.0028,  ...,  0.0245,  0.0279, -0.0094],\n",
      "        ...,\n",
      "        [-0.0253,  0.0055, -0.0109,  ..., -0.0022,  0.0308,  0.0085],\n",
      "        [ 0.0040,  0.0065,  0.0050,  ..., -0.0080,  0.0170, -0.0071],\n",
      "        [-0.0289,  0.0135, -0.0220,  ...,  0.0258, -0.0262, -0.0346]],\n",
      "       requires_grad=True)\n"
     ]
    }
   ],
   "source": [
    "print(my_model.fc1.weight)\n",
    "# print(my_model.fc1.bias)"
   ]
  },
  {
   "cell_type": "code",
   "execution_count": 43,
   "metadata": {},
   "outputs": [
    {
     "data": {
      "image/png": "[encoded data removed]",
      "text/plain": [
       "<matplotlib.figure.Figure at 0x7f0bf523d0f0>"
      ]
     },
     "metadata": {
      "image/png": {
       "height": 224,
       "width": 423
      },
      "needs_background": "light"
     },
     "output_type": "display_data"
    }
   ],
   "source": [
    "## Run this cell with your model to make sure it works ##\n",
    "# Forward pass through the network and display output\n",
    "images, labels = next(iter(trainloader))\n",
    "images.resize_(images.shape[0], 1, 784) #notice the resize_ to retain the in-place change \n",
    "ps = my_model.forward(images[0,:])\n",
    "helper.view_classify(images[0].view(1, 28, 28), ps)"
   ]
  },
  {
   "cell_type": "markdown",
   "metadata": {},
   "source": [
    "Next, we can learn how to train networks in PyTorch from [here](Part%203%20-%20Training%20Neural%20Networks.ipynb). "
   ]
  }
 ],
 "metadata": {
  "kernelspec": {
   "display_name": "Python 3.6.9 64-bit",
   "language": "python",
   "name": "python3"
  },
  "language_info": {
   "codemirror_mode": {
    "name": "ipython",
    "version": 3
   },
   "file_extension": ".py",
   "mimetype": "text/x-python",
   "name": "python",
   "nbconvert_exporter": "python",
   "pygments_lexer": "ipython3",
   "version": "3.6.9"
  },
  "vscode": {
   "interpreter": {
    "hash": "31f2aee4e71d21fbe5cf8b01ff0e069b9275f58929596ceb00d14d90e3e16cd6"
   }
  }
 },
 "nbformat": 4,
 "nbformat_minor": 2
}
